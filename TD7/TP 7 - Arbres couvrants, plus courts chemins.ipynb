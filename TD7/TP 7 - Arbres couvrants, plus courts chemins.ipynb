{
 "cells": [
  {
   "attachments": {},
   "cell_type": "markdown",
   "id": "a3d83db0",
   "metadata": {},
   "source": [
    "# TP séance 7 - Arbres et plus courts chemins\n",
    "L'objectif de ce TP est d'implémenter les algorithmes de Kruskal, Prim et Dijkstra vus en cours.\n",
    "L'algorithme de Dijkstra sera utilisé pour un problème concret : calculer le meilleur itinéraire entre deux points d'une ville, et l'afficher sur une carte."
   ]
  },
  {
   "cell_type": "markdown",
   "id": "ac655eb9",
   "metadata": {},
   "source": [
    "## Exercice 1 : algorithme de Kruskal\n"
   ]
  },
  {
   "cell_type": "markdown",
   "id": "311570da",
   "metadata": {},
   "source": [
    "### Q.1\n",
    "Utilisez les fonctions de NetworkX pour générer des graphes aléatoires *pondérés*, et afficher les poids des arêtes sur le graphe ; vous pourrez utiliser un graphe de type $G_{n,m}$, avec environ 1,5 fois plus d'arêtes que de sommets."
   ]
  },
  {
   "cell_type": "code",
   "execution_count": null,
   "id": "b5c28196",
   "metadata": {},
   "outputs": [],
   "source": []
  },
  {
   "attachments": {},
   "cell_type": "markdown",
   "id": "ef74f365",
   "metadata": {},
   "source": [
    "### Q.2 \n",
    "Implémentez l'algorithme de Kruskal et testez-le sur un graphe pondéré aléatoire, d'abord en affichant la *liste* des arêtes de l'arbre couvrant de poids minimum, puis en mettant en évidence ces arêtes sur le graphe. Comment détecter / empêcher la formation d'un cycle ?"
   ]
  },
  {
   "cell_type": "code",
   "execution_count": null,
   "id": "b028b03d",
   "metadata": {},
   "outputs": [],
   "source": []
  },
  {
   "cell_type": "markdown",
   "id": "8a878127",
   "metadata": {},
   "source": [
    "## Exercice 2 : algorithme de Prim\n",
    "Implémentez l'algorithme de Prim ; pensez à le tester également !"
   ]
  },
  {
   "cell_type": "code",
   "execution_count": null,
   "id": "70339123",
   "metadata": {},
   "outputs": [],
   "source": []
  },
  {
   "attachments": {},
   "cell_type": "markdown",
   "id": "1a5bc9f1",
   "metadata": {},
   "source": [
    "## Exercice 3 : Algorithme de Dijkstra\n",
    "Ecrivez une fonction `dijkstra(G, s, d)` qui prend un graphe pondéré en entrée, et calcule le plus court chemin du sommet source `s` vers le sommet destination `d`. Votre fonction doit retourner **la longueur de l'itinéraire (en m)** ainsi que **la liste des sommets permettant de reconstituer l'itinéraire**. Testez cette fonction sur un graphe aléatoire."
   ]
  },
  {
   "cell_type": "code",
   "execution_count": null,
   "id": "4667bbbb",
   "metadata": {},
   "outputs": [],
   "source": []
  },
  {
   "attachments": {},
   "cell_type": "markdown",
   "id": "69cbb7af",
   "metadata": {},
   "source": [
    "## Exercice 4 : Application au calcul d'itinéraire\n",
    "[OSMnx](https://geoffboeing.com/2016/11/osmnx-python-street-networks/) est un package Python permettant d'exploiter au format NetworkX les données disponibles sur [OpenStreetMap](https://openstreetmap.org). Il permet notamment de récupérer toutes les informations du réseau routier, piéton, de transports en commun, etc. et de le manipuler avec NetworkX. De nombreux exemples sont disponibles [sur cette page](https://github.com/gboeing/osmnx-examples)."
   ]
  },
  {
   "cell_type": "markdown",
   "id": "2715920b",
   "metadata": {},
   "source": [
    "Google Colaboratory permet d'exécuter des notebooks sur lesquels OSMnx et toutes ses dépendances sont installées.\n",
    "\n",
    "**Note** : Vous pouvez aussi bien sûr travailler en local, mais il vous faudra installer OSMnx et toutes ses dépendances.\n",
    "\n",
    "On commence par installer la librairie OSMnx :\n",
    "\n",
    "*Edit 2023 : la version 1.24 de `numpy` pose problème dans Colab ; on force l'installation de la version 1.23*"
   ]
  },
  {
   "cell_type": "code",
   "execution_count": null,
   "id": "526a0496",
   "metadata": {},
   "outputs": [],
   "source": [
    "%pip install numpy==1.23\n",
    "%pip install osmnx"
   ]
  },
  {
   "cell_type": "markdown",
   "id": "5ccee7d0",
   "metadata": {},
   "source": [
    "On importe ensuite les paquets nécessaires :"
   ]
  },
  {
   "cell_type": "code",
   "execution_count": null,
   "id": "cb6fdc45",
   "metadata": {},
   "outputs": [],
   "source": [
    "import networkx as nx\n",
    "import osmnx as ox\n",
    "\n",
    "%matplotlib inline\n",
    "ox.config(log_console=True)"
   ]
  },
  {
   "cell_type": "markdown",
   "id": "cb6b0011",
   "metadata": {},
   "source": [
    "*A partir de maintenant, toutes les informations, fonctions... sont à chercher dans les documentations fournies au début de cette section.*\n",
    "\n",
    "**Affichez le réseau routier de Lyon :**"
   ]
  },
  {
   "cell_type": "code",
   "execution_count": null,
   "id": "68d1b7ad",
   "metadata": {},
   "outputs": [],
   "source": []
  },
  {
   "cell_type": "markdown",
   "id": "51f6ae2f",
   "metadata": {},
   "source": [
    "Par défaut, les sommets sont affichés ; quand ils sont trop nombreux, ils nuisent à la lisibilité du graphe. **Affichez de nouveau le réseau routier, en jaune, dans une image de taille 10x10, et sans afficher les sommets.**"
   ]
  },
  {
   "cell_type": "code",
   "execution_count": null,
   "id": "d7b1f8da",
   "metadata": {},
   "outputs": [],
   "source": []
  },
  {
   "cell_type": "markdown",
   "id": "3afa3b2d",
   "metadata": {},
   "source": [
    "**Combien de sommets et d'arêtes ce graphes comporte-t-il ?**\n",
    "\n"
   ]
  },
  {
   "cell_type": "code",
   "execution_count": null,
   "id": "1df02671",
   "metadata": {},
   "outputs": [],
   "source": []
  },
  {
   "cell_type": "code",
   "execution_count": null,
   "id": "af533db4",
   "metadata": {},
   "outputs": [],
   "source": []
  },
  {
   "cell_type": "markdown",
   "id": "f1ff199c",
   "metadata": {},
   "source": [
    "**Superposez le réseau routier sur une carte de Lyon** (il existe une fonction d'affichage d'OSMnx pour ça ;)) ; **faites-en sorte que le nom d'une rue soit affiché quand on clique dessus**."
   ]
  },
  {
   "cell_type": "code",
   "execution_count": null,
   "id": "4205080c",
   "metadata": {},
   "outputs": [],
   "source": []
  },
  {
   "cell_type": "markdown",
   "id": "fd0677dd",
   "metadata": {},
   "source": [
    "A présent, l'idée est de déterminer le plus court chemin entre les deux points géographiques fournis, à l'aide de l'algorithme de Dijkstra codé ci-dessus, et de l'afficher sur la carte."
   ]
  },
  {
   "attachments": {},
   "cell_type": "markdown",
   "id": "309a49c7",
   "metadata": {},
   "source": [
    "Les *numéros* des sommets donnés par OpenStreetMap sont ceux de sa base de données *mondiale* : il peuvent être très grands (de l'ordre du milliard pour certains) et surtout ne pas être consécutifs. **Si besoin, modifiez votre fonction `dijkstra` pour qu'elle puisse gérer des numéros de sommets quelconques.**"
   ]
  },
  {
   "cell_type": "markdown",
   "id": "2cc84fe9",
   "metadata": {},
   "source": [
    "La fonction `nearest_nodes` renvoie le sommet / noeud du graphe le plus proche des coordonnées géographiques (longitude, latitude) données en paramètre. Récupérez les coordonnées des deux points géographiques fournis (via Google Maps, ou [OpenStreetMap](https://www.openstreetmap.org) en faisant un clic-droit puis *Affichez l'adresse*) et affichez les numéros des sommets les plus proches."
   ]
  },
  {
   "cell_type": "code",
   "execution_count": null,
   "id": "591647ab",
   "metadata": {},
   "outputs": [],
   "source": []
  },
  {
   "cell_type": "markdown",
   "id": "52b67b0c",
   "metadata": {},
   "source": [
    "Appliquez votre fonction `dijkstra` aux deux sommets du graphe, puis superposez en rouge l'itinéraire obtenu :"
   ]
  },
  {
   "cell_type": "code",
   "execution_count": null,
   "id": "2e43b1e5",
   "metadata": {},
   "outputs": [],
   "source": []
  }
 ],
 "metadata": {
  "kernelspec": {
   "display_name": "Python 3",
   "language": "python",
   "name": "python3"
  },
  "language_info": {
   "codemirror_mode": {
    "name": "ipython",
    "version": 3
   },
   "file_extension": ".py",
   "mimetype": "text/x-python",
   "name": "python",
   "nbconvert_exporter": "python",
   "pygments_lexer": "ipython3",
   "version": "3.8.8"
  }
 },
 "nbformat": 4,
 "nbformat_minor": 5
}
